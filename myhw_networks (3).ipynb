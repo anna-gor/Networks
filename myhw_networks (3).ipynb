{
  "nbformat": 4,
  "nbformat_minor": 0,
  "metadata": {
    "anaconda-cloud": {},
    "kernelspec": {
      "name": "python3",
      "display_name": "Python 3"
    },
    "language_info": {
      "codemirror_mode": {
        "name": "ipython",
        "version": 3
      },
      "file_extension": ".py",
      "mimetype": "text/x-python",
      "name": "python",
      "nbconvert_exporter": "python",
      "pygments_lexer": "ipython3",
      "version": "3.6.5"
    },
    "nav_menu": {},
    "toc": {
      "base_numbering": 1,
      "nav_menu": {
        "height": "347px",
        "width": "253px"
      },
      "number_sections": false,
      "sideBar": true,
      "skip_h1_title": false,
      "title_cell": "Table of Contents",
      "title_sidebar": "Contents",
      "toc_cell": false,
      "toc_position": {
        "height": "100px",
        "left": "46px",
        "right": "398.5px",
        "top": "111.133px",
        "width": "165px"
      },
      "toc_section_display": true,
      "toc_window_display": true
    },
    "toc_position": {
      "height": "40px",
      "left": "816px",
      "right": "38.6667px",
      "top": "0px",
      "width": "212px"
    },
    "colab": {
      "name": "myhw-networks.ipynb",
      "provenance": [],
      "collapsed_sections": []
    },
    "accelerator": "GPU"
  },
  "cells": [
    {
      "cell_type": "markdown",
      "metadata": {
        "id": "4lo2QbjPIdT3",
        "colab_type": "text"
      },
      "source": [
        "<center><img src=\"images/header.png\"></center>\n",
        "\n",
        "<h1><center>Лекция №6: Введение в анализ социальных сетей</center></h1>\n",
        "<hr>\n",
        "<h1><center>Домашняя работа</center></h1>"
      ]
    },
    {
      "cell_type": "markdown",
      "metadata": {
        "id": "LkyasfWaIdT5",
        "colab_type": "text"
      },
      "source": [
        "Данное ДЗ является довольно творческим и оно требует довольно много самостоятельной работы, так что не стоит с ним мешкать =)\n",
        "\n",
        "Вам предлагается выбрать сообщество (или сообщества) в сети ВКонтакте и проанализировать его (их) контингент. \n",
        "\n",
        "\n",
        "**Правила:**\n",
        "* Отчеты принимаются до **23:59 11 ноября**. Вы должны залить ваш ноутбук в github дать на него ссылку в следующей [форме](https://forms.gle/88d9CfaJN5gPV4bB8).\n",
        "* Работоспособность будет проверяться через [colab](https://colab.research.google.com) (можете сразу давать ссылку на него). Если ноутбук не будет исполняться (падать по ошибке) то все, что будет написано после ошибки не будет учитываться при формировании оценки \n",
        "* Вы должны включить код, с помощью которого вы общались с API вконтакте, но для экономии времени, заранее предусмотреть возможность загрузки уже собранных данных (например, как это было реализовано в ноутбуках по кластеризации через `wget` и dropbox или raw данными в github)\n",
        "\n",
        "**Пожелания:**\n",
        "* Выбирайте для анализа небольшие сообщества (до 5к), желательно чтобы вы сами в них состояли - это ускорит вычисления и упростит интерпретацию\n",
        "* Отнеситесь к этой работе как к исследованию - больше графиков и комментариев!\n",
        "* Красивые визуализации лучше делать через gephi!"
      ]
    },
    {
      "cell_type": "markdown",
      "metadata": {
        "id": "67plyOkiIdT6",
        "colab_type": "text"
      },
      "source": [
        "# Загрузка данных (2 балла)"
      ]
    },
    {
      "cell_type": "markdown",
      "metadata": {
        "id": "MVzFhGwUIdT7",
        "colab_type": "text"
      },
      "source": [
        "Изучите следующие материалы\n",
        "* [Знакомство с API](https://vk.com/dev/first_guide)\n",
        "* [Туториал](https://nbviewer.jupyter.org/github/allatambov/Py-programming-3/blob/master/15-06/lect-vk-api.ipynb) по выгрузке данных с помощью VKAPI\n",
        "* Про метод execute - [туть](https://vk.com/dev/execute) и [туть](http://www.cyberforum.ru/python-web/thread1730446.html)\n",
        "\n",
        "Выберите сообщество и загрузите\n",
        "* Идентификаторы всех [участников сообщества](https://vk.com/dev/groups.getMembers)\n",
        "* [Списки друзей](https://vk.com/dev/friends.get) участников и их признаки (пол, возраст, университет и все, что посчитаете нужным - нам потом группировать по этим атрибутам)\n",
        "* [Пересечение](https://vk.com/dev/friends.getMutual) между списками друзей\n",
        "\n",
        "Таким образом вы должны получить замкнутую группу аккаунтов с их друзьями и связями между ними.\n",
        "\n",
        "Далее - соберите их этого граф в networkX и сохраните в graphml или gml формате\n",
        "\n",
        "**Замечания:**\n",
        "* Вконтакте может ограничить вам скорость запросов, поэтому иногда имеет смысл ставить небольшую паузу (`time.sleep(1)`) между запросами и сохранять предварительные результаты\n",
        "* Код выгрузки может быть написан как с помощью модуля `vk` так и просто с помощью requests \n"
      ]
    },
    {
      "cell_type": "code",
      "metadata": {
        "id": "XuLCTRhcIf1f",
        "colab_type": "code",
        "colab": {
          "base_uri": "https://localhost:8080/",
          "height": 1000
        },
        "outputId": "ef717bed-c1e0-4b3a-b584-89ab529168f3"
      },
      "source": [
        "!wget https://raw.githubusercontent.com/anna-gor/Networks/master/1.png -O 1.png\n",
        "!wget https://raw.githubusercontent.com/anna-gor/Networks/master/2.png -O 2.png\n",
        "!wget https://raw.githubusercontent.com/anna-gor/Networks/master/3.png -O 3.png\n",
        "!wget https://raw.githubusercontent.com/anna-gor/Networks/master/4.png -O 4.png\n",
        "!wget https://raw.githubusercontent.com/anna-gor/Networks/master/5.png -O 5.png\n",
        "!wget https://raw.githubusercontent.com/anna-gor/Networks/master/6.png -O 6.png\n",
        "!wget https://raw.githubusercontent.com/anna-gor/Networks/master/edjes.json -O edjes.json\n",
        "!wget https://raw.githubusercontent.com/anna-gor/Networks/master/nodes.json -O nodes.json\n",
        "!wget https://raw.githubusercontent.com/anna-gor/Networks/master/vk_graphg.graphml -O vk_graphg.graphml\n"
      ],
      "execution_count": 266,
      "outputs": [
        {
          "output_type": "stream",
          "text": [
            "--2019-11-11 18:20:44--  https://raw.githubusercontent.com/anna-gor/Networks/master/1.png\n",
            "Resolving raw.githubusercontent.com (raw.githubusercontent.com)... 151.101.0.133, 151.101.64.133, 151.101.128.133, ...\n",
            "Connecting to raw.githubusercontent.com (raw.githubusercontent.com)|151.101.0.133|:443... connected.\n",
            "HTTP request sent, awaiting response... 200 OK\n",
            "Length: 938556 (917K) [image/png]\n",
            "Saving to: ‘1.png’\n",
            "\n",
            "1.png               100%[===================>] 916.56K  --.-KB/s    in 0.08s   \n",
            "\n",
            "2019-11-11 18:20:45 (11.0 MB/s) - ‘1.png’ saved [938556/938556]\n",
            "\n",
            "--2019-11-11 18:20:47--  https://raw.githubusercontent.com/anna-gor/Networks/master/2.png\n",
            "Resolving raw.githubusercontent.com (raw.githubusercontent.com)... 151.101.0.133, 151.101.64.133, 151.101.128.133, ...\n",
            "Connecting to raw.githubusercontent.com (raw.githubusercontent.com)|151.101.0.133|:443... connected.\n",
            "HTTP request sent, awaiting response... 200 OK\n",
            "Length: 730991 (714K) [image/png]\n",
            "Saving to: ‘2.png’\n",
            "\n",
            "2.png               100%[===================>] 713.86K  --.-KB/s    in 0.06s   \n",
            "\n",
            "2019-11-11 18:20:47 (10.8 MB/s) - ‘2.png’ saved [730991/730991]\n",
            "\n",
            "--2019-11-11 18:20:50--  https://raw.githubusercontent.com/anna-gor/Networks/master/3.png\n",
            "Resolving raw.githubusercontent.com (raw.githubusercontent.com)... 151.101.0.133, 151.101.64.133, 151.101.128.133, ...\n",
            "Connecting to raw.githubusercontent.com (raw.githubusercontent.com)|151.101.0.133|:443... connected.\n",
            "HTTP request sent, awaiting response... 200 OK\n",
            "Length: 731700 (715K) [image/png]\n",
            "Saving to: ‘3.png’\n",
            "\n",
            "3.png               100%[===================>] 714.55K  --.-KB/s    in 0.07s   \n",
            "\n",
            "2019-11-11 18:20:51 (10.5 MB/s) - ‘3.png’ saved [731700/731700]\n",
            "\n",
            "--2019-11-11 18:20:53--  https://raw.githubusercontent.com/anna-gor/Networks/master/4.png\n",
            "Resolving raw.githubusercontent.com (raw.githubusercontent.com)... 151.101.0.133, 151.101.64.133, 151.101.128.133, ...\n",
            "Connecting to raw.githubusercontent.com (raw.githubusercontent.com)|151.101.0.133|:443... connected.\n",
            "HTTP request sent, awaiting response... 200 OK\n",
            "Length: 685734 (670K) [image/png]\n",
            "Saving to: ‘4.png’\n",
            "\n",
            "4.png               100%[===================>] 669.66K  --.-KB/s    in 0.06s   \n",
            "\n",
            "2019-11-11 18:20:54 (10.6 MB/s) - ‘4.png’ saved [685734/685734]\n",
            "\n",
            "--2019-11-11 18:20:56--  https://raw.githubusercontent.com/anna-gor/Networks/master/5.png\n",
            "Resolving raw.githubusercontent.com (raw.githubusercontent.com)... 151.101.0.133, 151.101.64.133, 151.101.128.133, ...\n",
            "Connecting to raw.githubusercontent.com (raw.githubusercontent.com)|151.101.0.133|:443... connected.\n",
            "HTTP request sent, awaiting response... 200 OK\n",
            "Length: 301488 (294K) [image/png]\n",
            "Saving to: ‘5.png’\n",
            "\n",
            "5.png               100%[===================>] 294.42K  --.-KB/s    in 0.05s   \n",
            "\n",
            "2019-11-11 18:20:56 (5.83 MB/s) - ‘5.png’ saved [301488/301488]\n",
            "\n",
            "--2019-11-11 18:20:59--  https://raw.githubusercontent.com/anna-gor/Networks/master/6.png\n",
            "Resolving raw.githubusercontent.com (raw.githubusercontent.com)... 151.101.0.133, 151.101.64.133, 151.101.128.133, ...\n",
            "Connecting to raw.githubusercontent.com (raw.githubusercontent.com)|151.101.0.133|:443... connected.\n",
            "HTTP request sent, awaiting response... 200 OK\n",
            "Length: 422098 (412K) [image/png]\n",
            "Saving to: ‘6.png’\n",
            "\n",
            "6.png               100%[===================>] 412.21K  --.-KB/s    in 0.05s   \n",
            "\n",
            "2019-11-11 18:21:00 (8.15 MB/s) - ‘6.png’ saved [422098/422098]\n",
            "\n",
            "--2019-11-11 18:21:02--  https://raw.githubusercontent.com/anna-gor/Networks/master/edjes.json\n",
            "Resolving raw.githubusercontent.com (raw.githubusercontent.com)... 151.101.0.133, 151.101.64.133, 151.101.128.133, ...\n",
            "Connecting to raw.githubusercontent.com (raw.githubusercontent.com)|151.101.0.133|:443... connected.\n",
            "HTTP request sent, awaiting response... 200 OK\n",
            "Length: 674084 (658K) [text/plain]\n",
            "Saving to: ‘edjes.json’\n",
            "\n",
            "edjes.json          100%[===================>] 658.29K  --.-KB/s    in 0.06s   \n",
            "\n",
            "2019-11-11 18:21:02 (10.0 MB/s) - ‘edjes.json’ saved [674084/674084]\n",
            "\n",
            "--2019-11-11 18:21:05--  https://raw.githubusercontent.com/anna-gor/Networks/master/nodes.json\n",
            "Resolving raw.githubusercontent.com (raw.githubusercontent.com)... 151.101.0.133, 151.101.64.133, 151.101.128.133, ...\n",
            "Connecting to raw.githubusercontent.com (raw.githubusercontent.com)|151.101.0.133|:443... connected.\n",
            "HTTP request sent, awaiting response... 200 OK\n",
            "Length: 2066644 (2.0M) [text/plain]\n",
            "Saving to: ‘nodes.json’\n",
            "\n",
            "nodes.json          100%[===================>]   1.97M  --.-KB/s    in 0.09s   \n",
            "\n",
            "2019-11-11 18:21:06 (21.7 MB/s) - ‘nodes.json’ saved [2066644/2066644]\n",
            "\n",
            "--2019-11-11 18:21:09--  https://raw.githubusercontent.com/anna-gor/Networks/master/vk_graphg.graphml\n",
            "Resolving raw.githubusercontent.com (raw.githubusercontent.com)... 151.101.0.133, 151.101.64.133, 151.101.128.133, ...\n",
            "Connecting to raw.githubusercontent.com (raw.githubusercontent.com)|151.101.0.133|:443... connected.\n",
            "HTTP request sent, awaiting response... 200 OK\n",
            "Length: 2223598 (2.1M) [text/plain]\n",
            "Saving to: ‘vk_graphg.graphml’\n",
            "\n",
            "vk_graphg.graphml   100%[===================>]   2.12M  --.-KB/s    in 0.1s    \n",
            "\n",
            "2019-11-11 18:21:11 (19.9 MB/s) - ‘vk_graphg.graphml’ saved [2223598/2223598]\n",
            "\n"
          ],
          "name": "stdout"
        }
      ]
    },
    {
      "cell_type": "code",
      "metadata": {
        "id": "2rulEs_LIdT8",
        "colab_type": "code",
        "colab": {}
      },
      "source": [
        "### Здесь должен быть код загрузки из VK\n",
        "### Его можно закомментировать\n",
        "'''\n",
        "import vk\n",
        "import time\n",
        "token = '88741aa73e57451e23d384654b58440ea420785eb4fead631b4778ea43018c3210f00cbc63edca48bc3ca'\n",
        "session = vk.Session(access_token = token) # открыть сессию для работы\n",
        "api = vk.API(session) # подключиться к API\n",
        "'''"
      ],
      "execution_count": 0,
      "outputs": []
    },
    {
      "cell_type": "code",
      "metadata": {
        "id": "06P9YsZAIdT_",
        "colab_type": "code",
        "colab": {}
      },
      "source": [
        "#group = 'mm207msu'"
      ],
      "execution_count": 0,
      "outputs": []
    },
    {
      "cell_type": "code",
      "metadata": {
        "id": "Hu5Qq8Z-IdUC",
        "colab_type": "code",
        "colab": {}
      },
      "source": [
        "'''\n",
        "#Загружаем членов группы\n",
        "mems = api.groups.getMembers(group_id=group,fields=[ 'sex', 'bdate', 'city', 'country', 'universities'], v = 5.89)\n",
        "#Оставляем только аккаунты, к которым есть доступ\n",
        "nodes1=[]\n",
        "for i in range(len(mems['items'])):\n",
        "    if 'deactivated' in mems['items'][i].keys():\n",
        "        if mems['items'][i]['deactivated']!='banned' and mems['items'][i]['deactivated']!='deleted':\n",
        "            nodes1.append(mems['items'][i])\n",
        "    elif 'is_closed' in mems['items'][i].keys():\n",
        "        if (mems['items'][i]['is_closed']==False):\n",
        "            nodes1.append(mems['items'][i])\n",
        "#Cловарь с участниками группы\n",
        "nodegr={}\n",
        "for i in nodes1:\n",
        "    nodegr[str(i['id'])]=i\n",
        "group=list(nodegr.keys()) #Cписок id участников\n",
        "\n",
        "#Словарь с друзьями\n",
        "nodesfr={}\n",
        "listfriends=[]\n",
        "for i in group:\n",
        "    friends=api.friends.get(user_id=int(i), fields=[ 'sex', 'bdate', 'city', 'country', 'universities'], v = 5.89)\n",
        "    print(i, friends['count'])\n",
        "    l=[]\n",
        "    for friend in friends['items']:\n",
        "        if 'deactivated' in friend.keys():\n",
        "            if friend['deactivated']!='banned' and friend['deactivated']!='deleted':\n",
        "                nodesfr[str(friend['id'])]=friend\n",
        "                l.append(friend['id'])\n",
        "        elif 'is_closed' in friend.keys():\n",
        "            if (friend['is_closed']==False):\n",
        "                nodesfr[str(friend['id'])]=friend\n",
        "                l.append(friend['id'])\n",
        "    listfriends.append(l)\n",
        "    \n",
        "    time.sleep(0.4) \n",
        "nodes={**nodegr, **nodesfr} #Общий словарь(совпадает со словарем друзей)\n",
        "mems=list(nodes.keys()) #Cписок всех id\n",
        "\n",
        "#Добавляем к ребрам имеющиеся списки друзей\n",
        "com_fr={}\n",
        "for i in range(len(group)):\n",
        "    com_fr[str(group[i])]=listfriends[i]\n",
        "    \n",
        "#Добавляем ребра между друзьями и друзьями и членами группы\n",
        "for i in range(len(group)):\n",
        "    for j in range(len(group)):\n",
        "        k=0\n",
        "        while(k<len(listfriends[j])):\n",
        "            mutual=api.friends.getMutual(source_uid=group[i], target_uids=listfriends[j][k:k+100],v = 5.73)\n",
        "            time.sleep(0.3)\n",
        "            for l in mutual:\n",
        "                if str(l['id']) not in com_fr.keys():\n",
        "                    com_fr[str(l['id'])]=l['common_friends']\n",
        "                else:\n",
        "                    com_fr[str(l['id'])]=list(set(com_fr[str(l['id'])]+l['common_friends']))\n",
        "                    \n",
        "            k=k+100\n",
        "#Оставляем только те вершины, для которых была скачана информация (участники группы и их друзья)\n",
        "for i in mems:\n",
        "    com_fr[str(i)]=list((Counter([int(item) for item in mems]) & Counter(com_fr[str(i)])).elements())\n",
        "    \n",
        "with open('nodes.json', 'w') as f:\n",
        "    json.dump(nodes, f)\n",
        "with open('edjes.json', 'w') as f:\n",
        "    json.dump(com_fr, f)\n",
        "'''"
      ],
      "execution_count": 0,
      "outputs": []
    },
    {
      "cell_type": "code",
      "metadata": {
        "id": "3x0TcGQDIdUF",
        "colab_type": "code",
        "colab": {}
      },
      "source": [
        "### Здесь должен быть код преобразования в граф и сохранение в файл\n",
        "### Его тоже можно закомментировать\n",
        "import json\n",
        "import numpy as np\n",
        "import networkx as nx\n",
        "from collections import Counter \n",
        "with open('nodes.json', 'r') as fin:\n",
        "    friends_temp = json.load(fin)\n",
        "friends1=friends_temp \n",
        "keys=[i for i in list(friends_temp.keys())]\n",
        "for i in keys:\n",
        "    if  'universities' in friends1[i].keys() and len(friends1[i]['universities'])>0:\n",
        "        friends_temp[i]['university_name']=friends1[i]['universities'][0]['name']\n",
        "for i in keys:\n",
        "    if  'city' in friends1[i].keys():\n",
        "        friends_temp[i]['city_name']=friends1[i]['city']['title']\n",
        "for i in keys:\n",
        "    if  'country' in friends1[i].keys():\n",
        "        friends_temp[i]['country_name']=friends1[i]['country']['title']\n",
        "for i in keys:\n",
        "    if  'universities' in friends1[i].keys() and len(friends1[i]['universities'])>0:\n",
        "        if 'faculty_name' in friends1[i]['universities'][0]:\n",
        "            friends_temp[i]['faculty_name']=friends1[i]['universities'][0]['faculty_name']\n",
        "friends = dict()\n",
        "for k in friends_temp.keys():\n",
        "    friends[int(k)] = friends_temp[k]\n",
        "    \n",
        "with open('edjes.json', 'r') as fin:\n",
        "    common_friends_temp = json.load(fin)\n",
        "common_friends = dict()\n",
        "for k in common_friends_temp.keys():\n",
        "    common_friends[int(k)] = common_friends_temp[k]\n",
        "\n",
        "\n",
        "g = nx.Graph()\n",
        "\n",
        "g.add_nodes_from((fid, {'sex': friend.get('sex', -1), \n",
        "                        'first_name': friend.get('first_name', -1), \n",
        "                        'last_name': friend.get('last_name', -1), \n",
        "                        'university_name': friend.get('university_name', -1),\n",
        "                        'city_name': friend.get('city_name', -1),\n",
        "                       'country_name': friend.get('country_name', -1),\n",
        "                       'faculty_name': friend.get('faculty_name', -1)}) for fid, friend in friends.items())\n",
        "g.add_edges_from((f1, f2) for f1, f_list in common_friends.items() for f2 in f_list)\n",
        "nx.write_graphml(g, 'vk_graphg.graphml')\n"
      ],
      "execution_count": 0,
      "outputs": []
    },
    {
      "cell_type": "code",
      "metadata": {
        "id": "L119JzUMIdUI",
        "colab_type": "code",
        "colab": {}
      },
      "source": [
        "### Здесь код, который загружает сохраненную сеть\n",
        "import networkx as nx\n",
        "nx.write_graphml(g, 'vk_graphg.graphml')"
      ],
      "execution_count": 0,
      "outputs": []
    },
    {
      "cell_type": "markdown",
      "metadata": {
        "id": "PvlqnJkeIdUL",
        "colab_type": "text"
      },
      "source": [
        "# Визуализация (1 балл)"
      ]
    },
    {
      "cell_type": "markdown",
      "metadata": {
        "id": "xOgwXhKTIdUM",
        "colab_type": "text"
      },
      "source": [
        "* Откройте полученный граф в gephi\n",
        "* Выберите наиболее удачный на ваш взгляд алгоритм прорисовки\n",
        "* Добавьте изменение размера вершины в зависимости от степени вершины\n",
        "* Вставьте скрин-шот ниже"
      ]
    },
    {
      "cell_type": "code",
      "metadata": {
        "id": "6nhELO-8IdUN",
        "colab_type": "code",
        "colab": {}
      },
      "source": [
        "### Ваши картинки и комментарии ниже"
      ],
      "execution_count": 0,
      "outputs": []
    },
    {
      "cell_type": "markdown",
      "metadata": {
        "id": "KNibWcSVIdUP",
        "colab_type": "text"
      },
      "source": [
        "<img src='https://raw.githubusercontent.com/anna-gor/Networks/master/1.png'>"
      ]
    },
    {
      "cell_type": "markdown",
      "metadata": {
        "id": "PZL1Axs3IdUQ",
        "colab_type": "text"
      },
      "source": [
        "Алгоритм прорисовки - Force Atlas.\n",
        "Чем больше степень вершины, тем больше ее размер.\n",
        "Вершины раскрашены в разные цвета в зависимости от пола (синий - мужской, розовый - женский, зеленый - не указан)"
      ]
    },
    {
      "cell_type": "markdown",
      "metadata": {
        "id": "kQ0kEvuwIdUR",
        "colab_type": "text"
      },
      "source": [
        "# Центральности вершин (1.5 балла)"
      ]
    },
    {
      "cell_type": "markdown",
      "metadata": {
        "id": "Qlx8XVlWIdUS",
        "colab_type": "text"
      },
      "source": [
        "Возможно, перед тем как пойти дальше, стоит немного почитстить граф - с помощью [kcore](https://www.google.com/search?client=firefox-b-d&q=networkx+kcore)\n",
        "\n",
        "* Найдите наиболее влиятельные вершины с точки зрения degree, closeness и betweenness centrality\n",
        "* Выделите их на картинке в gephi"
      ]
    },
    {
      "cell_type": "code",
      "metadata": {
        "id": "1d24mEonIdUT",
        "colab_type": "code",
        "colab": {}
      },
      "source": [
        "### Ваш код, картинки и комментарии ниже\n",
        "g1=nx.k_core(g,9)\n",
        "betw=nx.betweenness_centrality(g1)\n",
        "close=nx.closeness_centrality(g1)\n",
        "degr=dict(g1.degree(list(g1.nodes())))"
      ],
      "execution_count": 0,
      "outputs": []
    },
    {
      "cell_type": "code",
      "metadata": {
        "id": "54dA73A1IdUW",
        "colab_type": "code",
        "colab": {}
      },
      "source": [
        "nx.set_node_attributes(g1,close,'close_cent')\n",
        "nx.set_node_attributes(g1,betw,'betw_cent')\n",
        "nx.set_node_attributes(g1,degr,'degr')\n",
        "nx.write_graphml(g1, 'vk_graphgg1.graphml')"
      ],
      "execution_count": 0,
      "outputs": []
    },
    {
      "cell_type": "markdown",
      "metadata": {
        "id": "lM25qKb1IdUZ",
        "colab_type": "text"
      },
      "source": [
        "Будем обозначать первую по порядку вершину - красным  \n",
        "Вторую - синим  \n",
        "Третью - зеленым   \n",
        "Размер отображает значение соответствующего признака"
      ]
    },
    {
      "cell_type": "code",
      "metadata": {
        "id": "JpRMdr6xIdUZ",
        "colab_type": "code",
        "colab": {
          "base_uri": "https://localhost:8080/",
          "height": 51
        },
        "outputId": "f0d8500c-408d-4e13-d281-9212b8fe2856"
      },
      "source": [
        "print('Hаиболее влиятельные вершины с точки зрения degree:\\n',sorted(degr.items(), key= lambda x:x[1], reverse = True)[:3] )"
      ],
      "execution_count": 7,
      "outputs": [
        {
          "output_type": "stream",
          "text": [
            "Hаиболее влиятельные вершины с точки зрения degree:\n",
            " [(33436943, 269), (59401294, 266), (248428655, 252)]\n"
          ],
          "name": "stdout"
        }
      ]
    },
    {
      "cell_type": "markdown",
      "metadata": {
        "id": "bxa6n-IuIdUd",
        "colab_type": "text"
      },
      "source": [
        "<img src='https://raw.githubusercontent.com/anna-gor/Networks/master/2.png' width=\"550\"/>"
      ]
    },
    {
      "cell_type": "markdown",
      "metadata": {
        "id": "i2IKVk3XIdUe",
        "colab_type": "text"
      },
      "source": [
        "Все три вершины действительно обозначают людей с наибольшим количеством друзей."
      ]
    },
    {
      "cell_type": "code",
      "metadata": {
        "id": "m-4ja0hDIdUf",
        "colab_type": "code",
        "colab": {
          "base_uri": "https://localhost:8080/",
          "height": 71
        },
        "outputId": "98ce8ced-7303-4fbe-caa8-d75087732098"
      },
      "source": [
        "print('Hаиболее влиятельные вершины с точки зрения closeness:\\n',sorted(close.items(), key= lambda x:x[1], reverse = True)[:3] )"
      ],
      "execution_count": 8,
      "outputs": [
        {
          "output_type": "stream",
          "text": [
            "Hаиболее влиятельные вершины с точки зрения closeness:\n",
            " [(59401294, 0.5413687436159347), (120889121, 0.513234344738541), (88282737, 0.4990583804143126)]\n"
          ],
          "name": "stdout"
        }
      ]
    },
    {
      "cell_type": "markdown",
      "metadata": {
        "id": "4sGxWQ10IdUi",
        "colab_type": "text"
      },
      "source": [
        "<img src='https://raw.githubusercontent.com/anna-gor/Networks/master/3.png' width=\"550\"/>"
      ]
    },
    {
      "cell_type": "markdown",
      "metadata": {
        "id": "E5tpEay8IdUj",
        "colab_type": "text"
      },
      "source": [
        "Среди вершин встречается одна из вершин из предыдущего пункта (с наибольшими степенями). Здесь у нее максимальное значение closeness и она относится к старосте и основательнице сообщества."
      ]
    },
    {
      "cell_type": "code",
      "metadata": {
        "id": "9ziBsdt-IdUk",
        "colab_type": "code",
        "colab": {
          "base_uri": "https://localhost:8080/",
          "height": 71
        },
        "outputId": "f8d72795-fc3b-4237-e47a-a95a75d0a4a8"
      },
      "source": [
        "print('Hаиболее влиятельные вершины с точки зрения betweenness centrality:\\n',sorted(betw.items(), key= lambda x:x[1], reverse = True)[:3] )"
      ],
      "execution_count": 9,
      "outputs": [
        {
          "output_type": "stream",
          "text": [
            "Hаиболее влиятельные вершины с точки зрения betweenness centrality:\n",
            " [(33436943, 0.18116786750789704), (59401294, 0.17171045305730148), (32981792, 0.1214118193247677)]\n"
          ],
          "name": "stdout"
        }
      ]
    },
    {
      "cell_type": "markdown",
      "metadata": {
        "id": "JVHtGpPqIdUn",
        "colab_type": "text"
      },
      "source": [
        "<img src='https://raw.githubusercontent.com/anna-gor/Networks/master/4.png' width=\"550\"/>"
      ]
    },
    {
      "cell_type": "markdown",
      "metadata": {
        "id": "dPMpiRTbIdUo",
        "colab_type": "text"
      },
      "source": [
        "Вершина с максимальным значением betweenness centrality имеет так же и максимальную степень. На втором месте так же находится вершина, которая была замечена в предыдущих двух пунктах и относится к старосте и основательнице группы."
      ]
    },
    {
      "cell_type": "markdown",
      "metadata": {
        "id": "_Jna-0TgIdUo",
        "colab_type": "text"
      },
      "source": [
        "# Сообщества... в сообществе (1.5 балла)\n",
        "\n",
        "Выберите алгоритм выделения сообществ на графах и алгоритм на основе похожести вершин. Для обоих вариантов\n",
        "* Выделите сообщества, опираясь на максимальное значение модулярности для полученного разбиения\n",
        "* Изобразите граф с вершинами, раскрашенными в цвет своего сообщества в gephi\n",
        "* Попробуйте проинтерпретировать полученные сообщества, кто эти люди, почему они всязаны?\n",
        "* Какой метод на ваш взгляд сработал лучше?"
      ]
    },
    {
      "cell_type": "code",
      "metadata": {
        "id": "n80Lqw3eIdUp",
        "colab_type": "code",
        "colab": {
          "base_uri": "https://localhost:8080/",
          "height": 34
        },
        "outputId": "03dce6d8-fae4-4dab-c249-779a3b91dbee"
      },
      "source": [
        "### Ваш код, картинки и комментарии ниже\n",
        "g2=nx.k_core(g,18)\n",
        "print(g2.number_of_nodes())\n",
        "nx.write_graphml(g2, 'vk_graphgg2.graphml')"
      ],
      "execution_count": 90,
      "outputs": [
        {
          "output_type": "stream",
          "text": [
            "826\n"
          ],
          "name": "stdout"
        }
      ]
    },
    {
      "cell_type": "code",
      "metadata": {
        "id": "fUh00BTEIdUs",
        "colab_type": "code",
        "colab": {}
      },
      "source": [
        "from itertools import product\n",
        "def modularity(G, communities, weight='weight'):\n",
        "    multigraph = G.is_multigraph()\n",
        "    directed = G.is_directed()\n",
        "    m = G.size(weight=weight)\n",
        "    if directed:\n",
        "        out_degree = dict(G.out_degree(weight=weight))\n",
        "        in_degree = dict(G.in_degree(weight=weight))\n",
        "        norm = 1 / m\n",
        "    else:\n",
        "        out_degree = dict(G.degree(weight=weight))\n",
        "        in_degree = out_degree\n",
        "        norm = 1 / (2 * m)\n",
        "\n",
        "    def val(u, v):\n",
        "        try:\n",
        "            if multigraph:\n",
        "                w = sum(d.get(weight, 1) for k, d in G[u][v].items())\n",
        "            else:\n",
        "                w = G[u][v].get(weight, 1)\n",
        "        except KeyError:\n",
        "            w = 0\n",
        "        # Double count self-loops if the graph is undirected.\n",
        "        if u == v and not directed:\n",
        "            w *= 2\n",
        "        return w - in_degree[u] * out_degree[v] * norm\n",
        "\n",
        "    Q = sum(val(u, v) for c in communities for u, v in product(c, repeat=2))\n",
        "    return Q * norm"
      ],
      "execution_count": 0,
      "outputs": []
    },
    {
      "cell_type": "markdown",
      "metadata": {
        "id": "kPtB2HCQIdUv",
        "colab_type": "text"
      },
      "source": [
        "### Aлгоритм выделения сообществ на графах"
      ]
    },
    {
      "cell_type": "code",
      "metadata": {
        "id": "9L4msmzVIdUw",
        "colab_type": "code",
        "colab": {
          "base_uri": "https://localhost:8080/",
          "height": 323
        },
        "outputId": "ffa3f15e-47ff-47e7-9f1d-28bec35857b3"
      },
      "source": [
        "i = 0\n",
        "final_mod = 0\n",
        "eb_partitions = nx.community.girvan_newman(g2)\n",
        "print('Girvan_newman')\n",
        "for partition in eb_partitions:\n",
        "    print(i)\n",
        "    i += 1\n",
        "    num_com = len(partition)\n",
        "    if num_com < 10:\n",
        "        mod = modularity(g2, partition)\n",
        "        if (mod > final_mod):\n",
        "            final_mod = mod\n",
        "            final_partition = partition\n",
        "        print('For {} communities modularity = {}'.format(num_com, mod))\n",
        "    else:\n",
        "        break"
      ],
      "execution_count": 38,
      "outputs": [
        {
          "output_type": "stream",
          "text": [
            "Girvan_newman\n",
            "0\n",
            "For 2 communities modularity = 0.22782639618719658\n",
            "1\n",
            "For 3 communities modularity = 0.34803094150976743\n",
            "2\n",
            "For 4 communities modularity = 0.42905632091850976\n",
            "3\n",
            "For 5 communities modularity = 0.4541832478624633\n",
            "4\n",
            "For 6 communities modularity = 0.45390172544106455\n",
            "5\n",
            "For 7 communities modularity = 0.45361955121364894\n",
            "6\n",
            "For 8 communities modularity = 0.4533548060263418\n",
            "7\n",
            "For 9 communities modularity = 0.4531915475775033\n",
            "8\n"
          ],
          "name": "stdout"
        }
      ]
    },
    {
      "cell_type": "code",
      "metadata": {
        "id": "bRHxf5U6xD2j",
        "colab_type": "code",
        "colab": {}
      },
      "source": [
        "eb_labeling={}\n",
        "for i in range(len(final_partition)):\n",
        "    for j in final_partition[i]:\n",
        "        eb_labeling[j]=i"
      ],
      "execution_count": 0,
      "outputs": []
    },
    {
      "cell_type": "code",
      "metadata": {
        "id": "K6WNCeYOxG4L",
        "colab_type": "code",
        "colab": {}
      },
      "source": [
        "nx.set_node_attributes(g2,eb_labeling,'eb_labeling')\n",
        "nx.set_node_attributes(g2,close,'close_cent')\n",
        "nx.set_node_attributes(g2,betw,'betw_cent')"
      ],
      "execution_count": 0,
      "outputs": []
    },
    {
      "cell_type": "code",
      "metadata": {
        "id": "JBL4N-h7xNCW",
        "colab_type": "code",
        "colab": {}
      },
      "source": [
        "nx.write_graphml(g2, 'vk_graphg2.graphml')"
      ],
      "execution_count": 0,
      "outputs": []
    },
    {
      "cell_type": "markdown",
      "metadata": {
        "id": "sMqeYFSKzv_3",
        "colab_type": "text"
      },
      "source": [
        "<img src='https://raw.githubusercontent.com/anna-gor/Networks/master/5.png' width=\"550\"/>"
      ]
    },
    {
      "cell_type": "markdown",
      "metadata": {
        "id": "miG1ODXmz2sJ",
        "colab_type": "text"
      },
      "source": [
        "0 группа (голубая) - люди, у которых в основном не указан вуз, многие из них из Казани, т.к. в группе есть человек с большим количеством друзей, который приехал из Казани.  \n",
        "1 группа (розовая) - Преимущественно люди с механико-математического факультета МГУ, что логично, т.к. само сообщество - одногруппники с мехмата.  \n",
        "2 группа (темно-зеленая) - группа людей из Королева, друзья старосты группы, которая живет в Королеве.  \n",
        "3 группа(салатовая) - люди, учащиеся в РЭУ им. Плеханова. Туда перевелся один из одногруппников, у которого много друзей (его вершина была наибольшей по степени)  \n",
        "4 группа (оранжевая) - остальные. Люди из разных вузов, разных городов.\n",
        "То есть группы интерпретируются."
      ]
    },
    {
      "cell_type": "markdown",
      "metadata": {
        "id": "ccC6iL7rHHyL",
        "colab_type": "text"
      },
      "source": [
        "###Алгоритм на основе похожести вершин"
      ]
    },
    {
      "cell_type": "code",
      "metadata": {
        "id": "JQk0JQnKj8OK",
        "colab_type": "code",
        "colab": {}
      },
      "source": [
        "dicti={}\n",
        "k=0\n",
        "for i in list(g.nodes()):\n",
        "  dicti[i]=k\n",
        "  k=k+1"
      ],
      "execution_count": 0,
      "outputs": []
    },
    {
      "cell_type": "code",
      "metadata": {
        "id": "bvQjNn5xkQmi",
        "colab_type": "code",
        "colab": {}
      },
      "source": [
        "friends = dict()\n",
        "for k in friends_temp.keys():\n",
        "    friends[dicti[int(k)]] = friends_temp[k]"
      ],
      "execution_count": 0,
      "outputs": []
    },
    {
      "cell_type": "code",
      "metadata": {
        "id": "jmngLzKpkaoJ",
        "colab_type": "code",
        "colab": {}
      },
      "source": [
        "common_friends = dict()\n",
        "for k in common_friends_temp.keys():\n",
        "    l=[]\n",
        "    for i in common_friends_temp[k]:\n",
        "        l.append(dicti[i])\n",
        "    common_friends[dicti[int(k)]] = l"
      ],
      "execution_count": 0,
      "outputs": []
    },
    {
      "cell_type": "code",
      "metadata": {
        "id": "CXYneitGk1eu",
        "colab_type": "code",
        "colab": {}
      },
      "source": [
        "g1 = nx.Graph()\n",
        "g1.add_nodes_from((fid, {'sex': friend.get('sex', -1), \n",
        "                        'first_name': friend.get('first_name', -1), \n",
        "                        'last_name': friend.get('last_name', -1), \n",
        "                        'university_name': friend.get('university_name', -1),\n",
        "                        'city_name': friend.get('city_name', -1),\n",
        "                       'country_name': friend.get('country_name', -1)}) for fid, friend in friends.items())\n",
        "g1.add_edges_from((f1, f2) for f1, f_list in common_friends.items() for f2 in f_list)"
      ],
      "execution_count": 0,
      "outputs": []
    },
    {
      "cell_type": "code",
      "metadata": {
        "id": "g3i2u--gnNWz",
        "colab_type": "code",
        "colab": {}
      },
      "source": [
        "def get_keys(d, value):\n",
        "    a=set()\n",
        "    for k, v in d.items():\n",
        "        if v == value:\n",
        "            a.add(k)\n",
        "    return a"
      ],
      "execution_count": 0,
      "outputs": []
    },
    {
      "cell_type": "code",
      "metadata": {
        "id": "TxLYZPTCH_h_",
        "colab_type": "code",
        "colab": {
          "base_uri": "https://localhost:8080/",
          "height": 286
        },
        "outputId": "f7df557f-041c-4dc9-c746-d0f451014f72"
      },
      "source": [
        "import matplotlib.pyplot as plt\n",
        "A = nx.adj_matrix(g1)\n",
        "plt.spy(A, markersize=2)"
      ],
      "execution_count": 241,
      "outputs": [
        {
          "output_type": "execute_result",
          "data": {
            "text/plain": [
              "<matplotlib.lines.Line2D at 0x7f6aa3b08470>"
            ]
          },
          "metadata": {
            "tags": []
          },
          "execution_count": 241
        },
        {
          "output_type": "display_data",
          "data": {
            "image/png": "[encoded data removed]",
            "text/plain": [
              "<Figure size 432x288 with 1 Axes>"
            ]
          },
          "metadata": {
            "tags": []
          }
        }
      ]
    },
    {
      "cell_type": "code",
      "metadata": {
        "id": "kKP9T8_DIVl2",
        "colab_type": "code",
        "colab": {}
      },
      "source": [
        "jac = nx.jaccard_coefficient(g1)\n",
        "jac = np.array(list(jac))"
      ],
      "execution_count": 0,
      "outputs": []
    },
    {
      "cell_type": "code",
      "metadata": {
        "id": "8VBZPjGmH32v",
        "colab_type": "code",
        "colab": {
          "base_uri": "https://localhost:8080/",
          "height": 136
        },
        "outputId": "dcf39ceb-753b-4617-9d95-4d20cbc97df8"
      },
      "source": [
        "jac"
      ],
      "execution_count": 243,
      "outputs": [
        {
          "output_type": "execute_result",
          "data": {
            "text/plain": [
              "array([[0.00000000e+00, 4.00000000e+00, 8.62068966e-03],\n",
              "       [0.00000000e+00, 6.00000000e+00, 5.18134715e-02],\n",
              "       [0.00000000e+00, 1.10000000e+01, 4.80769231e-02],\n",
              "       ...,\n",
              "       [2.97300000e+03, 2.97400000e+03, 1.00000000e+00],\n",
              "       [2.97300000e+03, 2.97500000e+03, 1.00000000e+00],\n",
              "       [2.97400000e+03, 2.97500000e+03, 1.00000000e+00]])"
            ]
          },
          "metadata": {
            "tags": []
          },
          "execution_count": 243
        }
      ]
    },
    {
      "cell_type": "code",
      "metadata": {
        "id": "B0k0iPG8I3HS",
        "colab_type": "code",
        "colab": {}
      },
      "source": [
        "from scipy.sparse import coo_matrix\n",
        "\n",
        "# Переводим все в формат разреженной матрицы\n",
        "D = coo_matrix((jac[:,2], (jac[:,0], jac[:,1])), shape=(2976,2976))\n",
        "\n",
        "# Делаем ее симметричной\n",
        "D = D+D.T"
      ],
      "execution_count": 0,
      "outputs": []
    },
    {
      "cell_type": "code",
      "metadata": {
        "id": "G4qFuZOTlieZ",
        "colab_type": "code",
        "colab": {}
      },
      "source": [
        "from sklearn.cluster import SpectralClustering"
      ],
      "execution_count": 0,
      "outputs": []
    },
    {
      "cell_type": "code",
      "metadata": {
        "id": "1tTMQxaPlnKg",
        "colab_type": "code",
        "colab": {
          "base_uri": "https://localhost:8080/",
          "height": 187
        },
        "outputId": "4521f6c8-454b-436d-9fc9-081a7e521fc9"
      },
      "source": [
        "for num_clust in range(5,15):\n",
        "  model = SpectralClustering(n_clusters=num_clust, affinity='precomputed')\n",
        "  model.fit(D)\n",
        "  labels = model.labels_\n",
        "  labels = model.labels_labels=[int(i) for i in labels]\n",
        "  versh={}\n",
        "  k=0\n",
        "  for i in g.nodes:\n",
        "      versh[i]=labels[k]\n",
        "      k=k+1\n",
        "  print(num_clust, modularity(g, tuple(get_keys(versh, i) for i in range(num_clust))))"
      ],
      "execution_count": 255,
      "outputs": [
        {
          "output_type": "stream",
          "text": [
            "5 0.35777999082256917\n",
            "6 0.36697371932105544\n",
            "7 0.46383185645275776\n",
            "8 0.46844822874187503\n",
            "9 0.4754819735678238\n",
            "10 0.47585804135690946\n",
            "11 0.4940440784322394\n",
            "12 0.49602579688893467\n",
            "13 0.4949249780669141\n",
            "14 0.494926890394034\n"
          ],
          "name": "stdout"
        }
      ]
    },
    {
      "cell_type": "code",
      "metadata": {
        "id": "P5vidQATpNpZ",
        "colab_type": "code",
        "colab": {}
      },
      "source": [
        "model = SpectralClustering(n_clusters=12, affinity='precomputed')\n",
        "model.fit(D)\n",
        "labels = model.labels_\n",
        "labels = model.labels_labels=[int(i) for i in labels]\n",
        "versh={}\n",
        "k=0\n",
        "for i in g.nodes:\n",
        "  versh[i]=labels[k]\n",
        "  k=k+1"
      ],
      "execution_count": 0,
      "outputs": []
    },
    {
      "cell_type": "markdown",
      "metadata": {
        "id": "94RHGfJ6soNJ",
        "colab_type": "text"
      },
      "source": [
        "<img src='https://raw.githubusercontent.com/anna-gor/Networks/master/6.png' width=\"550\"/>"
      ]
    },
    {
      "cell_type": "markdown",
      "metadata": {
        "id": "7Og52_52su6c",
        "colab_type": "text"
      },
      "source": [
        "Граф довольно неплохо разбился на 12 классов. Кластеров оказалось больше, поскольку были задействованы все вершины. Но большую часть всех верших охватывают где-то первые 6 классов.  \n",
        "При этом они очень похожи на кластеры, получившиеся в предыдущем разбиении.\n"
      ]
    },
    {
      "cell_type": "code",
      "metadata": {
        "id": "av5QgroXpafi",
        "colab_type": "code",
        "colab": {}
      },
      "source": [
        "nx.set_node_attributes(g1,versh,'versh')\n",
        "nx.write_graphml(g1, 'vk_graphggg11.graphml')"
      ],
      "execution_count": 0,
      "outputs": []
    },
    {
      "cell_type": "markdown",
      "metadata": {
        "id": "zgkOHBAZIdVJ",
        "colab_type": "text"
      },
      "source": [
        "# Асортативность по признакам (1.5 балла)\n",
        "\n",
        "* Посчитайте коэффициенты асортативности для признаков вершин (пол, возраст, университет, школа, город, количество друзей, etc)\n",
        "* Проинтерпретируйте полученные результаты"
      ]
    },
    {
      "cell_type": "code",
      "metadata": {
        "id": "9zcCsEn-IdVJ",
        "colab_type": "code",
        "colab": {
          "base_uri": "https://localhost:8080/",
          "height": 136
        },
        "outputId": "ec1ae8d1-a5cb-41fc-ae46-9163ea42b9de"
      },
      "source": [
        "### Ваш код, картинки и комментарии ниже\n",
        "attributes=['sex', 'first_name', 'last_name', 'university_name', 'city_name', 'country_name', 'faculty_name']\n",
        "for attr in attributes:\n",
        "    print('{} assortativity = {}'.format(attr, \n",
        "                                         nx.assortativity.attribute_assortativity_coefficient(g2 , attr)))"
      ],
      "execution_count": 122,
      "outputs": [
        {
          "output_type": "stream",
          "text": [
            "sex assortativity = 0.12063521785575668\n",
            "first_name assortativity = 0.002334264027122223\n",
            "last_name assortativity = -0.0010702577374035098\n",
            "university_name assortativity = 0.14436884301974018\n",
            "city_name assortativity = 0.11418265855325656\n",
            "country_name assortativity = 0.014637416020743971\n",
            "faculty_name assortativity = 0.09526384306264211\n"
          ],
          "name": "stdout"
        }
      ]
    },
    {
      "cell_type": "markdown",
      "metadata": {
        "id": "9Qny-K57AxYv",
        "colab_type": "text"
      },
      "source": [
        "Самая высокая асортативность - у пола, города,университета.  \n",
        "Меньше - у страны и факультета.  \n",
        "Наименьшая - у имени и фамилии.  \n",
        "Это можно проинтерпретировать как то, что чаще всего мы добавляем в друзья людей своего пола, из своего города и университета, так как эти признаки характеризуют некоторые общие интересы, на почве которых могут познакомиться и подружиться люди. Страна и факультет уже не столь значимые признаки, но все равно среди наших друзей чаще встречаются люди из нашей страны, а так же люди с нашего факультета. Так же стоит отметить, что название факультета указывается реже, чем название университета, что тоже может повлиять на значение асортативности. И наименее значимые признаки - имя и фамилия. Они разные у всех людей и не влияют на образование дружеских связей. При этом коэффициент у имени выше, так как повторяющихся имен больше, чем фамилий."
      ]
    }
  ]
}